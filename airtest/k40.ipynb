{
 "cells": [
  {
   "cell_type": "code",
   "execution_count": 3,
   "metadata": {},
   "outputs": [],
   "source": [
    "from airtest.core.api import *\n"
   ]
  },
  {
   "cell_type": "code",
   "execution_count": 4,
   "metadata": {},
   "outputs": [
    {
     "name": "stderr",
     "output_type": "stream",
     "text": [
      "[20:03:56][DEBUG]<airtest.core.android.adb> D:\\0programs\\Anaconda3\\envs\\scrapy\\Lib\\site-packages\\airtest\\core\\android\\static\\adb\\windows\\adb.exe -P 5037 -s 192.168.1.100:28888 get-state\n",
      "[20:03:56][DEBUG]<airtest.core.android.adb> D:\\0programs\\Anaconda3\\envs\\scrapy\\Lib\\site-packages\\airtest\\core\\android\\static\\adb\\windows\\adb.exe -P 5037 -s 192.168.1.100:28888 wait-for-device\n",
      "[20:03:57][DEBUG]<airtest.core.android.adb> D:\\0programs\\Anaconda3\\envs\\scrapy\\Lib\\site-packages\\airtest\\core\\android\\static\\adb\\windows\\adb.exe -P 5037 -s 192.168.1.100:28888 shell getprop ro.build.version.sdk\n"
     ]
    }
   ],
   "source": [
    "connect_device(\"Android://127.0.0.1:5037/192.168.1.100:28888?cap_method=javacap\")\n"
   ]
  },
  {
   "cell_type": "code",
   "execution_count": 5,
   "metadata": {},
   "outputs": [
    {
     "name": "stderr",
     "output_type": "stream",
     "text": [
      "[20:03:57][DEBUG]<airtest.core.android.adb> D:\\0programs\\Anaconda3\\envs\\scrapy\\Lib\\site-packages\\airtest\\core\\android\\static\\adb\\windows\\adb.exe -P 5037 -s 192.168.1.100:28888 shell monkey -p com.baidu.tieba -c android.intent.category.LAUNCHER 1\n",
      "[20:03:58][INFO]<airtest.core.api> Try finding: Template(./img/签到/贴吧1.jpg)\n",
      "[20:03:58][DEBUG]<airtest.core.android.adb> D:\\0programs\\Anaconda3\\envs\\scrapy\\Lib\\site-packages\\airtest\\core\\android\\static\\adb\\windows\\adb.exe -P 5037 -s 192.168.1.100:28888 shell dumpsys package com.netease.nie.yosemite\n",
      "[20:03:58][DEBUG]<airtest.core.android.adb> D:\\0programs\\Anaconda3\\envs\\scrapy\\Lib\\site-packages\\airtest\\core\\android\\static\\adb\\windows\\adb.exe -P 5037 -s 192.168.1.100:28888 forward --no-rebind tcp:11959 localabstract:javacap_11959\n",
      "[20:03:59][DEBUG]<airtest.core.android.adb> D:\\0programs\\Anaconda3\\envs\\scrapy\\Lib\\site-packages\\airtest\\core\\android\\static\\adb\\windows\\adb.exe -P 5037 -s 192.168.1.100:28888 shell pm path com.netease.nie.yosemite\n",
      "[20:03:59][DEBUG]<airtest.core.android.adb> D:\\0programs\\Anaconda3\\envs\\scrapy\\Lib\\site-packages\\airtest\\core\\android\\static\\adb\\windows\\adb.exe -P 5037 -s 192.168.1.100:28888 shell CLASSPATH=/data/app/~~lSkvKlteqlzmY_DajYePpg==/com.netease.nie.yosemite-Vg6Y6yGvJbqjo5r3uX-eIQ==/base.apk exec app_process /system/bin com.netease.nie.yosemite.Capture --scale 100 --socket javacap_11959 -lazy 2>&1\n",
      "[20:03:59][DEBUG]<airtest.utils.nbsp> [javacap_sever]b'Capture server listening on @javacap_11959'\n",
      "[20:03:59][DEBUG]<airtest.utils.nbsp> [javacap_sever]b'java.lang.NoSuchMethodException: android.view.SurfaceControl.screenshot [class android.graphics.Rect, int, int, int]'\n",
      "[20:03:59][DEBUG]<airtest.utils.nbsp> [javacap_sever]b'at java.lang.Class.getMethod(Class.java:2103)'\n",
      "[20:03:59][DEBUG]<airtest.utils.nbsp> [javacap_sever]b'at java.lang.Class.getDeclaredMethod(Class.java:2081)'\n",
      "[20:03:59][DEBUG]<airtest.utils.nbsp> [javacap_sever]b'at com.netease.nie.yosemite.compat.ScreenshotManagerWrapper$NewApiScreenshotInjector.injectorMethod(ScreenshotManagerWrapper.java:123)'\n",
      "[20:03:59][DEBUG]<airtest.utils.nbsp> [javacap_sever]b'at com.netease.nie.yosemite.compat.ScreenshotManagerWrapper.<init>(ScreenshotManagerWrapper.java:28)'\n",
      "[20:03:59][DEBUG]<airtest.utils.nbsp> [javacap_sever]b'at com.netease.nie.yosemite.Capture$InputClient.run(Capture.java:168)'\n",
      "[20:03:59][ERROR]<airtest.core.android.cap_methods.screen_proxy> OSError('socket connection broken')\n",
      "[20:03:59][ERROR]<airtest.core.android.cap_methods.screen_proxy> Javacap setup up failed!\n",
      "[20:03:59][DEBUG]<airtest.core.android.adb> D:\\0programs\\Anaconda3\\envs\\scrapy\\Lib\\site-packages\\airtest\\core\\android\\static\\adb\\windows\\adb.exe -P 5037 -s 192.168.1.100:28888 shell ls /data/local/tmp/minicap\n",
      "[20:03:59][DEBUG]<airtest.utils.nbsp> [javacap_sever]b''\n",
      "[20:03:59][DEBUG]<airtest.core.android.adb> D:\\0programs\\Anaconda3\\envs\\scrapy\\Lib\\site-packages\\airtest\\core\\android\\static\\adb\\windows\\adb.exe -P 5037 -s 192.168.1.100:28888 shell ls /data/local/tmp/minicap.so\n",
      "[20:04:00][DEBUG]<airtest.core.android.adb> D:\\0programs\\Anaconda3\\envs\\scrapy\\Lib\\site-packages\\airtest\\core\\android\\static\\adb\\windows\\adb.exe -P 5037 -s 192.168.1.100:28888 shell LD_LIBRARY_PATH=/data/local/tmp /data/local/tmp/minicap -v 2>&1\n",
      "[20:04:00][DEBUG]<airtest.core.android.cap_methods.minicap> version:5\n",
      "[20:04:00][DEBUG]<airtest.core.android.cap_methods.minicap> skip install minicap\n",
      "[20:04:00][DEBUG]<airtest.core.android.adb> D:\\0programs\\Anaconda3\\envs\\scrapy\\Lib\\site-packages\\airtest\\core\\android\\static\\adb\\windows\\adb.exe -P 5037 -s 192.168.1.100:28888 shell ls -l /data/local/tmp/rotationwatcher.jar\n",
      "[20:04:00][DEBUG]<airtest.core.android.rotation> install_rotationwatcher skipped\n",
      "[20:04:00][DEBUG]<airtest.core.android.adb> D:\\0programs\\Anaconda3\\envs\\scrapy\\Lib\\site-packages\\airtest\\core\\android\\static\\adb\\windows\\adb.exe -P 5037 -s 192.168.1.100:28888 shell app_process -Djava.class.path=/data/local/tmp/rotationwatcher.jar /data/local/tmp com.example.rotationwatcher.Main\n",
      "[20:04:01][DEBUG]<airtest.utils.nbsp> [rotation_server]b'0'\n",
      "[20:04:01][INFO]<airtest.core.android.rotation> update orientation None->0\n",
      "[20:04:01][DEBUG]<airtest.core.android.adb> D:\\0programs\\Anaconda3\\envs\\scrapy\\Lib\\site-packages\\airtest\\core\\android\\static\\adb\\windows\\adb.exe -P 5037 -s 192.168.1.100:28888 shell wm size\n",
      "[20:04:01][DEBUG]<airtest.core.android.cap_methods.minicap> update_rotation: 0\n",
      "[20:04:01][DEBUG]<airtest.core.android.adb> D:\\0programs\\Anaconda3\\envs\\scrapy\\Lib\\site-packages\\airtest\\core\\android\\static\\adb\\windows\\adb.exe -P 5037 -s 192.168.1.100:28888 shell getprop ro.sf.lcd_density\n",
      "[20:04:02][DEBUG]<airtest.core.android.adb> D:\\0programs\\Anaconda3\\envs\\scrapy\\Lib\\site-packages\\airtest\\core\\android\\static\\adb\\windows\\adb.exe -P 5037 -s 192.168.1.100:28888 shell dumpsys SurfaceFlinger\n",
      "[20:04:02][DEBUG]<airtest.core.android.adb> D:\\0programs\\Anaconda3\\envs\\scrapy\\Lib\\site-packages\\airtest\\core\\android\\static\\adb\\windows\\adb.exe -P 5037 -s 192.168.1.100:28888 shell dumpsys input\n",
      "[20:04:02][DEBUG]<airtest.core.android.adb> D:\\0programs\\Anaconda3\\envs\\scrapy\\Lib\\site-packages\\airtest\\core\\android\\static\\adb\\windows\\adb.exe -P 5037 -s 192.168.1.100:28888 shell getevent -p\n",
      "[20:04:02][DEBUG]<airtest.core.android.adb> D:\\0programs\\Anaconda3\\envs\\scrapy\\Lib\\site-packages\\airtest\\core\\android\\static\\adb\\windows\\adb.exe -P 5037 -s 192.168.1.100:28888 shell LD_LIBRARY_PATH=/data/local/tmp /data/local/tmp/minicap -n 'airtest_minicap' -P 1080x2400@1080x2400/0 -s\n",
      "[20:04:03][DEBUG]<airtest.core.android.cap_methods.minicap> do update rotation\n",
      "[20:04:03][DEBUG]<airtest.core.android.adb> D:\\0programs\\Anaconda3\\envs\\scrapy\\Lib\\site-packages\\airtest\\core\\android\\static\\adb\\windows\\adb.exe -P 5037 -s 192.168.1.100:28888 forward --no-rebind tcp:17578 localabstract:minicap_17578\n",
      "[20:04:03][DEBUG]<airtest.core.android.adb> D:\\0programs\\Anaconda3\\envs\\scrapy\\Lib\\site-packages\\airtest\\core\\android\\static\\adb\\windows\\adb.exe -P 5037 -s 192.168.1.100:28888 shell LD_LIBRARY_PATH=/data/local/tmp /data/local/tmp/minicap -n 'minicap_17578' -P 1080x2400@1080x2400/0 -l 2>&1\n",
      "[20:04:03][DEBUG]<airtest.utils.nbsp> [minicap_server]b'PID: 441'\n",
      "[20:04:03][DEBUG]<airtest.utils.nbsp> [minicap_server]b'INFO: Using projection 1080x2400@1080x2400/0'\n",
      "[20:04:03][DEBUG]<airtest.utils.nbsp> [minicap_server]b'INFO: (external/minicap/src/minicap_31.cpp:245) Creating SurfaceComposerClient'\n",
      "[20:04:03][DEBUG]<airtest.utils.nbsp> [minicap_server]b'INFO: (external/minicap/src/minicap_31.cpp:248) Performing SurfaceComposerClient init check'\n",
      "[20:04:03][DEBUG]<airtest.utils.nbsp> [minicap_server]b'INFO: (external/minicap/src/minicap_31.cpp:259) Creating virtual display'\n",
      "[20:04:03][DEBUG]<airtest.utils.nbsp> [minicap_server]b'INFO: (external/minicap/src/minicap_31.cpp:265) Creating buffer queue'\n",
      "[20:04:03][DEBUG]<airtest.utils.nbsp> [minicap_server]b'INFO: (external/minicap/src/minicap_31.cpp:268) Setting buffer options'\n",
      "[20:04:03][DEBUG]<airtest.utils.nbsp> [minicap_server]b'INFO: (external/minicap/src/minicap_31.cpp:272) Creating CPU consumer'\n",
      "[20:04:03][DEBUG]<airtest.utils.nbsp> [minicap_server]b'INFO: (external/minicap/src/minicap_31.cpp:276) Creating frame waiter'\n",
      "[20:04:03][DEBUG]<airtest.utils.nbsp> [minicap_server]b'INFO: (external/minicap/src/minicap_31.cpp:280) Publishing virtual display'\n",
      "[20:04:03][DEBUG]<airtest.utils.nbsp> [minicap_server]b'INFO: (jni/minicap/JpgEncoder.cpp:64) Allocating 7835652 bytes for JPG encoder'\n",
      "[20:04:03][DEBUG]<airtest.utils.nbsp> [minicap_server]b'INFO: (jni/minicap/minicap.cpp:489) Server start'\n",
      "[20:04:03][DEBUG]<airtest.core.android.cap_methods.minicap> (1, 24, 441, 1080, 2400, 1080, 2400, 0, 2)\n",
      "[20:04:03][DEBUG]<airtest.utils.nbsp> [minicap_server]b'INFO: (jni/minicap/minicap.cpp:492) New client connection'\n",
      "[20:04:03][DEBUG]<airtest.core.api> try match with MultiScaleTemplateMatchingPre\n",
      "[20:04:03][DEBUG]<airtest.aircv.utils> find_best_result() run time is 0.00 s.\n",
      "[20:04:03][DEBUG]<airtest.core.api> try match with TemplateMatching\n",
      "[20:04:04][DEBUG]<airtest.aircv.template_matching> [Template] threshold=0.7, result={'result': (322, 2327), 'rectangle': ((260, 2263), (260, 2392), (385, 2392), (385, 2263)), 'confidence': 0.9870182275772095}\n",
      "[20:04:04][DEBUG]<airtest.aircv.utils> find_best_result() run time is 0.17 s.\n",
      "[20:04:04][DEBUG]<airtest.core.api> match result: {'result': (322, 2327), 'rectangle': ((260, 2263), (260, 2392), (385, 2392), (385, 2263)), 'confidence': 0.9870182275772095, 'time': 0.16688156127929688}\n",
      "[20:04:04][DEBUG]<airtest.core.android.adb> D:\\0programs\\Anaconda3\\envs\\scrapy\\Lib\\site-packages\\airtest\\core\\android\\static\\adb\\windows\\adb.exe -P 5037 -s 192.168.1.100:28888 shell ls -l /data/local/tmp/maxpresent.jar\n",
      "[20:04:04][DEBUG]<airtest.core.android.touch_methods.maxtouch> install_maxtouch skipped\n",
      "[20:04:04][DEBUG]<airtest.core.android.adb> D:\\0programs\\Anaconda3\\envs\\scrapy\\Lib\\site-packages\\airtest\\core\\android\\static\\adb\\windows\\adb.exe -P 5037 -s 192.168.1.100:28888 forward --no-rebind tcp:19472 localabstract:maxpresent_19472\n",
      "[20:04:04][DEBUG]<airtest.core.android.adb> D:\\0programs\\Anaconda3\\envs\\scrapy\\Lib\\site-packages\\airtest\\core\\android\\static\\adb\\windows\\adb.exe -P 5037 -s 192.168.1.100:28888 shell app_process -Djava.class.path=/data/local/tmp/maxpresent.jar /data/local/tmp com.netease.maxpresent.MaxPresent socket maxpresent_19472\n",
      "[20:04:04][DEBUG]<airtest.utils.nbsp> [airtouch_server]b'Metrics Message : 2400.0=====1080.0'\n",
      "[20:04:04][DEBUG]<airtest.utils.nbsp> [airtouch_server]b'Start local socket (maxpresent_19472) server...'\n",
      "[20:04:04][INFO]<airtest.core.api> Try finding: Template(./img/签到/贴吧2.jpg)\n",
      "[20:04:05][DEBUG]<airtest.core.api> try match with MultiScaleTemplateMatchingPre\n",
      "[20:04:05][DEBUG]<airtest.aircv.utils> find_best_result() run time is 0.00 s.\n",
      "[20:04:05][DEBUG]<airtest.core.api> try match with TemplateMatching\n",
      "[20:04:05][DEBUG]<airtest.aircv.template_matching> [Template] threshold=0.7, result={'result': (107, 2304), 'rectangle': ((62, 2261), (62, 2347), (152, 2347), (152, 2261)), 'confidence': 0.3874872922897339}\n",
      "[20:04:05][DEBUG]<airtest.aircv.utils> find_best_result() run time is 0.21 s.\n",
      "[20:04:05][DEBUG]<airtest.core.api> try match with SIFTMatching\n",
      "[20:04:06][DEBUG]<airtest.aircv.utils> find_best_result() run time is 1.00 s.\n",
      "[20:04:06][DEBUG]<airtest.core.api> try match with BRISKMatching\n",
      "[20:04:06][DEBUG]<airtest.aircv.utils> find_best_result() run time is 0.66 s.\n",
      "[20:04:06][DEBUG]<airtest.core.api> match result: None\n",
      "[20:04:07][DEBUG]<airtest.core.api> try match with MultiScaleTemplateMatchingPre\n",
      "[20:04:07][DEBUG]<airtest.aircv.utils> find_best_result() run time is 0.00 s.\n",
      "[20:04:07][DEBUG]<airtest.core.api> try match with TemplateMatching\n",
      "[20:04:07][DEBUG]<airtest.aircv.template_matching> [Template] threshold=0.7, result={'result': (1003, 247), 'rectangle': ((958, 204), (958, 290), (1048, 290), (1048, 204)), 'confidence': 0.9871982336044312}\n",
      "[20:04:07][DEBUG]<airtest.aircv.utils> find_best_result() run time is 0.09 s.\n",
      "[20:04:07][DEBUG]<airtest.core.api> match result: {'result': (1003, 247), 'rectangle': ((958, 204), (958, 290), (1048, 290), (1048, 204)), 'confidence': 0.9871982336044312, 'time': 0.08604860305786133}\n",
      "[20:04:07][INFO]<airtest.core.api> Try finding: Template(./img/签到/贴吧3.jpg)\n",
      "[20:04:08][DEBUG]<airtest.core.api> try match with MultiScaleTemplateMatchingPre\n",
      "[20:04:08][DEBUG]<airtest.aircv.utils> find_best_result() run time is 0.00 s.\n",
      "[20:04:08][DEBUG]<airtest.core.api> try match with TemplateMatching\n",
      "[20:04:08][DEBUG]<airtest.aircv.template_matching> [Template] threshold=0.7, result={'result': (740, 502), 'rectangle': ((604, 365), (604, 639), (877, 639), (877, 365)), 'confidence': 0.39754676818847656}\n",
      "[20:04:08][DEBUG]<airtest.aircv.utils> find_best_result() run time is 0.12 s.\n",
      "[20:04:08][DEBUG]<airtest.core.api> try match with SIFTMatching\n",
      "[20:04:09][DEBUG]<airtest.aircv.keypoint_base> [SIFT] threshold=0.7, result={'result': (1014, 217), 'rectangle': [(883, 78), (883, 356), (1079, 356), (1079, 78)], 'confidence': 0.6361601948738098}\n",
      "[20:04:09][DEBUG]<airtest.aircv.utils> find_best_result() run time is 1.19 s.\n",
      "[20:04:09][DEBUG]<airtest.core.api> try match with BRISKMatching\n",
      "[20:04:10][DEBUG]<airtest.aircv.utils> find_best_result() run time is 0.71 s.\n",
      "[20:04:10][DEBUG]<airtest.core.api> match result: None\n",
      "[20:04:10][DEBUG]<airtest.core.api> try match with MultiScaleTemplateMatchingPre\n",
      "[20:04:10][DEBUG]<airtest.aircv.utils> find_best_result() run time is 0.00 s.\n",
      "[20:04:10][DEBUG]<airtest.core.api> try match with TemplateMatching\n",
      "[20:04:11][DEBUG]<airtest.aircv.template_matching> [Template] threshold=0.7, result={'result': (544, 357), 'rectangle': ((408, 220), (408, 494), (681, 494), (681, 220)), 'confidence': 0.9923631548881531}\n",
      "[20:04:11][DEBUG]<airtest.aircv.utils> find_best_result() run time is 0.20 s.\n",
      "[20:04:11][DEBUG]<airtest.core.api> match result: {'result': (544, 357), 'rectangle': ((408, 220), (408, 494), (681, 494), (681, 220)), 'confidence': 0.9923631548881531, 'time': 0.20139265060424805}\n"
     ]
    },
    {
     "data": {
      "text/plain": [
       "(544, 357)"
      ]
     },
     "execution_count": 5,
     "metadata": {},
     "output_type": "execute_result"
    }
   ],
   "source": [
    "start_app(\"com.baidu.tieba\")\n",
    "touch(wait(Template(r'./img/签到/贴吧1.jpg')))\n",
    "touch(wait(Template(r'./img/签到/贴吧2.jpg')))\n",
    "touch(wait(Template(r'./img/签到/贴吧3.jpg')))"
   ]
  },
  {
   "cell_type": "code",
   "execution_count": 6,
   "metadata": {},
   "outputs": [
    {
     "name": "stderr",
     "output_type": "stream",
     "text": [
      "[20:04:11][DEBUG]<airtest.core.android.adb> D:\\0programs\\Anaconda3\\envs\\scrapy\\Lib\\site-packages\\airtest\\core\\android\\static\\adb\\windows\\adb.exe -P 5037 -s 192.168.1.100:28888 shell monkey -p com.kingpoint.gmcchh -c android.intent.category.LAUNCHER 1\n",
      "[20:04:11][INFO]<airtest.core.api> Try finding: Template(./img/签到/营业厅1.jpg)\n",
      "[20:04:12][DEBUG]<airtest.core.api> try match with MultiScaleTemplateMatchingPre\n",
      "[20:04:12][DEBUG]<airtest.aircv.utils> find_best_result() run time is 0.00 s.\n",
      "[20:04:12][DEBUG]<airtest.core.api> try match with TemplateMatching\n",
      "[20:04:12][DEBUG]<airtest.aircv.template_matching> [Template] threshold=0.7, result={'result': (365, 41), 'rectangle': ((338, 16), (338, 67), (393, 67), (393, 16)), 'confidence': 0.44703754782676697}\n",
      "[20:04:12][DEBUG]<airtest.aircv.utils> find_best_result() run time is 0.22 s.\n",
      "[20:04:12][DEBUG]<airtest.core.api> try match with SIFTMatching\n",
      "[20:04:13][DEBUG]<airtest.aircv.utils> find_best_result() run time is 0.82 s.\n",
      "[20:04:13][DEBUG]<airtest.core.api> try match with BRISKMatching\n",
      "[20:04:13][DEBUG]<airtest.aircv.utils> find_best_result() run time is 0.18 s.\n",
      "[20:04:13][DEBUG]<airtest.core.api> match result: None\n",
      "[20:04:14][DEBUG]<airtest.core.api> try match with MultiScaleTemplateMatchingPre\n",
      "[20:04:14][DEBUG]<airtest.aircv.utils> find_best_result() run time is 0.00 s.\n",
      "[20:04:14][DEBUG]<airtest.core.api> try match with TemplateMatching\n",
      "[20:04:14][DEBUG]<airtest.aircv.template_matching> [Template] threshold=0.7, result={'result': (516, 670), 'rectangle': ((489, 645), (489, 696), (544, 696), (544, 645)), 'confidence': 0.4320470690727234}\n",
      "[20:04:14][DEBUG]<airtest.aircv.utils> find_best_result() run time is 0.10 s.\n",
      "[20:04:14][DEBUG]<airtest.core.api> try match with SIFTMatching\n",
      "[20:04:14][DEBUG]<airtest.aircv.utils> find_best_result() run time is 0.73 s.\n",
      "[20:04:14][DEBUG]<airtest.core.api> try match with BRISKMatching\n",
      "[20:04:15][DEBUG]<airtest.aircv.utils> find_best_result() run time is 0.29 s.\n",
      "[20:04:15][DEBUG]<airtest.core.api> match result: None\n",
      "[20:04:15][DEBUG]<airtest.core.api> try match with MultiScaleTemplateMatchingPre\n",
      "[20:04:15][DEBUG]<airtest.aircv.utils> find_best_result() run time is 0.00 s.\n",
      "[20:04:15][DEBUG]<airtest.core.api> try match with TemplateMatching\n",
      "[20:04:16][DEBUG]<airtest.aircv.template_matching> [Template] threshold=0.7, result={'result': (516, 670), 'rectangle': ((489, 645), (489, 696), (544, 696), (544, 645)), 'confidence': 0.4320470690727234}\n",
      "[20:04:16][DEBUG]<airtest.aircv.utils> find_best_result() run time is 0.11 s.\n",
      "[20:04:16][DEBUG]<airtest.core.api> try match with SIFTMatching\n",
      "[20:04:16][DEBUG]<airtest.aircv.utils> find_best_result() run time is 0.84 s.\n",
      "[20:04:16][DEBUG]<airtest.core.api> try match with BRISKMatching\n",
      "[20:04:17][DEBUG]<airtest.aircv.utils> find_best_result() run time is 0.23 s.\n",
      "[20:04:17][DEBUG]<airtest.core.api> match result: None\n",
      "[20:04:17][DEBUG]<airtest.core.api> try match with MultiScaleTemplateMatchingPre\n",
      "[20:04:17][DEBUG]<airtest.aircv.utils> find_best_result() run time is 0.00 s.\n",
      "[20:04:17][DEBUG]<airtest.core.api> try match with TemplateMatching\n",
      "[20:04:18][DEBUG]<airtest.aircv.template_matching> [Template] threshold=0.7, result={'result': (516, 670), 'rectangle': ((489, 645), (489, 696), (544, 696), (544, 645)), 'confidence': 0.43140286207199097}\n",
      "[20:04:18][DEBUG]<airtest.aircv.utils> find_best_result() run time is 0.14 s.\n",
      "[20:04:18][DEBUG]<airtest.core.api> try match with SIFTMatching\n",
      "[20:04:18][DEBUG]<airtest.aircv.utils> find_best_result() run time is 0.68 s.\n",
      "[20:04:18][DEBUG]<airtest.core.api> try match with BRISKMatching\n",
      "[20:04:18][DEBUG]<airtest.aircv.utils> find_best_result() run time is 0.21 s.\n",
      "[20:04:18][DEBUG]<airtest.core.api> match result: None\n",
      "[20:04:19][DEBUG]<airtest.core.api> try match with MultiScaleTemplateMatchingPre\n",
      "[20:04:19][DEBUG]<airtest.aircv.utils> find_best_result() run time is 0.00 s.\n",
      "[20:04:19][DEBUG]<airtest.core.api> try match with TemplateMatching\n",
      "[20:04:19][DEBUG]<airtest.aircv.template_matching> [Template] threshold=0.7, result={'result': (928, 541), 'rectangle': ((901, 516), (901, 567), (956, 567), (956, 516)), 'confidence': 0.48210811614990234}\n",
      "[20:04:19][DEBUG]<airtest.aircv.utils> find_best_result() run time is 0.10 s.\n",
      "[20:04:19][DEBUG]<airtest.core.api> try match with SIFTMatching\n",
      "[20:04:20][DEBUG]<airtest.aircv.utils> find_best_result() run time is 0.70 s.\n",
      "[20:04:20][DEBUG]<airtest.core.api> try match with BRISKMatching\n",
      "[20:04:20][DEBUG]<airtest.aircv.utils> find_best_result() run time is 0.36 s.\n",
      "[20:04:20][DEBUG]<airtest.core.api> match result: None\n",
      "[20:04:21][DEBUG]<airtest.core.api> try match with MultiScaleTemplateMatchingPre\n",
      "[20:04:21][DEBUG]<airtest.aircv.utils> find_best_result() run time is 0.00 s.\n",
      "[20:04:21][DEBUG]<airtest.core.api> try match with TemplateMatching\n",
      "[20:04:21][DEBUG]<airtest.aircv.template_matching> [Template] threshold=0.7, result={'result': (170, 519), 'rectangle': ((143, 494), (143, 545), (198, 545), (198, 494)), 'confidence': 0.5067403316497803}\n",
      "[20:04:21][DEBUG]<airtest.aircv.utils> find_best_result() run time is 0.10 s.\n",
      "[20:04:21][DEBUG]<airtest.core.api> try match with SIFTMatching\n",
      "[20:04:22][DEBUG]<airtest.aircv.utils> find_best_result() run time is 0.84 s.\n",
      "[20:04:22][DEBUG]<airtest.core.api> try match with BRISKMatching\n",
      "[20:04:23][DEBUG]<airtest.aircv.utils> find_best_result() run time is 0.51 s.\n",
      "[20:04:23][DEBUG]<airtest.core.api> match result: None\n",
      "[20:04:23][DEBUG]<airtest.core.api> try match with MultiScaleTemplateMatchingPre\n",
      "[20:04:23][DEBUG]<airtest.aircv.utils> find_best_result() run time is 0.00 s.\n",
      "[20:04:23][DEBUG]<airtest.core.api> try match with TemplateMatching\n",
      "[20:04:24][DEBUG]<airtest.aircv.template_matching> [Template] threshold=0.7, result={'result': (170, 519), 'rectangle': ((143, 494), (143, 545), (198, 545), (198, 494)), 'confidence': 0.5066906213760376}\n",
      "[20:04:24][DEBUG]<airtest.aircv.utils> find_best_result() run time is 0.11 s.\n",
      "[20:04:24][DEBUG]<airtest.core.api> try match with SIFTMatching\n",
      "[20:04:24][DEBUG]<airtest.aircv.utils> find_best_result() run time is 0.86 s.\n",
      "[20:04:24][DEBUG]<airtest.core.api> try match with BRISKMatching\n",
      "[20:04:25][DEBUG]<airtest.aircv.utils> find_best_result() run time is 0.55 s.\n",
      "[20:04:25][DEBUG]<airtest.core.api> match result: None\n",
      "[20:04:26][DEBUG]<airtest.core.api> try match with MultiScaleTemplateMatchingPre\n",
      "[20:04:26][DEBUG]<airtest.aircv.utils> find_best_result() run time is 0.00 s.\n",
      "[20:04:26][DEBUG]<airtest.core.api> try match with TemplateMatching\n",
      "[20:04:26][DEBUG]<airtest.aircv.template_matching> [Template] threshold=0.7, result={'result': (170, 519), 'rectangle': ((143, 494), (143, 545), (198, 545), (198, 494)), 'confidence': 0.5066869854927063}\n",
      "[20:04:26][DEBUG]<airtest.aircv.utils> find_best_result() run time is 0.15 s.\n",
      "[20:04:26][DEBUG]<airtest.core.api> try match with SIFTMatching\n",
      "[20:04:27][DEBUG]<airtest.aircv.utils> find_best_result() run time is 1.29 s.\n",
      "[20:04:27][DEBUG]<airtest.core.api> try match with BRISKMatching\n",
      "[20:04:28][DEBUG]<airtest.aircv.utils> find_best_result() run time is 0.77 s.\n",
      "[20:04:28][DEBUG]<airtest.core.api> match result: None\n",
      "[20:04:29][DEBUG]<airtest.core.api> try match with MultiScaleTemplateMatchingPre\n",
      "[20:04:29][DEBUG]<airtest.aircv.utils> find_best_result() run time is 0.00 s.\n",
      "[20:04:29][DEBUG]<airtest.core.api> try match with TemplateMatching\n",
      "[20:04:29][DEBUG]<airtest.aircv.template_matching> [Template] threshold=0.7, result={'result': (170, 519), 'rectangle': ((143, 494), (143, 545), (198, 545), (198, 494)), 'confidence': 0.506707489490509}\n",
      "[20:04:29][DEBUG]<airtest.aircv.utils> find_best_result() run time is 0.14 s.\n",
      "[20:04:29][DEBUG]<airtest.core.api> try match with SIFTMatching\n",
      "[20:04:30][DEBUG]<airtest.aircv.utils> find_best_result() run time is 1.26 s.\n",
      "[20:04:30][DEBUG]<airtest.core.api> try match with BRISKMatching\n",
      "[20:04:31][DEBUG]<airtest.aircv.utils> find_best_result() run time is 0.80 s.\n",
      "[20:04:31][DEBUG]<airtest.core.api> match result: None\n",
      "[20:04:32][DEBUG]<airtest.core.api> try match with MultiScaleTemplateMatchingPre\n",
      "[20:04:32][DEBUG]<airtest.aircv.utils> find_best_result() run time is 0.00 s.\n",
      "[20:04:32][DEBUG]<airtest.core.api> try match with TemplateMatching\n",
      "[20:04:32][DEBUG]<airtest.aircv.template_matching> [Template] threshold=0.7, result={'result': (170, 519), 'rectangle': ((143, 494), (143, 545), (198, 545), (198, 494)), 'confidence': 0.5066993832588196}\n",
      "[20:04:32][DEBUG]<airtest.aircv.utils> find_best_result() run time is 0.13 s.\n",
      "[20:04:32][DEBUG]<airtest.core.api> try match with SIFTMatching\n",
      "[20:04:33][DEBUG]<airtest.aircv.utils> find_best_result() run time is 1.21 s.\n",
      "[20:04:33][DEBUG]<airtest.core.api> try match with BRISKMatching\n",
      "[20:04:34][DEBUG]<airtest.aircv.utils> find_best_result() run time is 0.71 s.\n",
      "[20:04:34][DEBUG]<airtest.core.api> match result: None\n",
      "[20:04:34][INFO]<airtest.core.api> Try finding: Template(./img/签到/营业厅2.jpg)\n"
     ]
    },
    {
     "name": "stdout",
     "output_type": "stream",
     "text": [
      "no\n"
     ]
    },
    {
     "name": "stderr",
     "output_type": "stream",
     "text": [
      "[20:04:34][DEBUG]<airtest.core.api> try match with MultiScaleTemplateMatchingPre\n",
      "[20:04:34][DEBUG]<airtest.aircv.utils> find_best_result() run time is 0.00 s.\n",
      "[20:04:34][DEBUG]<airtest.core.api> try match with TemplateMatching\n",
      "[20:04:34][DEBUG]<airtest.aircv.template_matching> [Template] threshold=0.7, result={'result': (974, 2334), 'rectangle': ((918, 2269), (918, 2400), (1031, 2400), (1031, 2269)), 'confidence': 0.9913604855537415}\n",
      "[20:04:34][DEBUG]<airtest.aircv.utils> find_best_result() run time is 0.13 s.\n",
      "[20:04:34][DEBUG]<airtest.core.api> match result: {'result': (974, 2334), 'rectangle': ((918, 2269), (918, 2400), (1031, 2400), (1031, 2269)), 'confidence': 0.9913604855537415, 'time': 0.12922286987304688}\n",
      "[20:04:34][INFO]<airtest.core.api> Try finding: Template(./img/签到/营业厅3.jpg)\n",
      "[20:04:35][DEBUG]<airtest.core.api> try match with MultiScaleTemplateMatchingPre\n",
      "[20:04:35][DEBUG]<airtest.aircv.utils> find_best_result() run time is 0.00 s.\n",
      "[20:04:35][DEBUG]<airtest.core.api> try match with TemplateMatching\n",
      "[20:04:35][DEBUG]<airtest.aircv.template_matching> [Template] threshold=0.7, result={'result': (923, 472), 'rectangle': ((853, 443), (853, 501), (994, 501), (994, 443)), 'confidence': 0.4056081473827362}\n",
      "[20:04:35][DEBUG]<airtest.aircv.utils> find_best_result() run time is 0.17 s.\n",
      "[20:04:35][DEBUG]<airtest.core.api> try match with SIFTMatching\n",
      "[20:04:36][DEBUG]<airtest.aircv.keypoint_base> [SIFT] threshold=0.7, result={'result': (359, 1296), 'rectangle': [(276, 1269), (276, 1324), (443, 1324), (443, 1269)], 'confidence': 0.52985137142241}\n",
      "[20:04:36][DEBUG]<airtest.aircv.utils> find_best_result() run time is 1.27 s.\n",
      "[20:04:36][DEBUG]<airtest.core.api> try match with BRISKMatching\n",
      "[20:04:37][DEBUG]<airtest.aircv.utils> find_best_result() run time is 0.62 s.\n",
      "[20:04:37][DEBUG]<airtest.core.api> match result: None\n",
      "[20:04:38][DEBUG]<airtest.core.api> try match with MultiScaleTemplateMatchingPre\n",
      "[20:04:38][DEBUG]<airtest.aircv.utils> find_best_result() run time is 0.00 s.\n",
      "[20:04:38][DEBUG]<airtest.core.api> try match with TemplateMatching\n",
      "[20:04:38][DEBUG]<airtest.aircv.template_matching> [Template] threshold=0.7, result={'result': (953, 322), 'rectangle': ((883, 293), (883, 351), (1024, 351), (1024, 293)), 'confidence': 0.9830847382545471}\n",
      "[20:04:38][DEBUG]<airtest.aircv.utils> find_best_result() run time is 0.14 s.\n",
      "[20:04:38][DEBUG]<airtest.core.api> match result: {'result': (953, 322), 'rectangle': ((883, 293), (883, 351), (1024, 351), (1024, 293)), 'confidence': 0.9830847382545471, 'time': 0.13944005966186523}\n",
      "[20:04:38][INFO]<airtest.core.api> Try finding: Template(./img/签到/营业厅4.jpg)\n",
      "[20:04:38][DEBUG]<airtest.core.api> try match with MultiScaleTemplateMatchingPre\n",
      "[20:04:38][DEBUG]<airtest.aircv.utils> find_best_result() run time is 0.00 s.\n",
      "[20:04:38][DEBUG]<airtest.core.api> try match with TemplateMatching\n",
      "[20:04:38][DEBUG]<airtest.aircv.template_matching> [Template] threshold=0.7, result={'result': (575, 1338), 'rectangle': ((366, 1300), (366, 1377), (784, 1377), (784, 1300)), 'confidence': 0.32511988282203674}\n",
      "[20:04:38][DEBUG]<airtest.aircv.utils> find_best_result() run time is 0.12 s.\n",
      "[20:04:38][DEBUG]<airtest.core.api> try match with SIFTMatching\n",
      "[20:04:39][DEBUG]<airtest.aircv.keypoint_base> [SIFT] threshold=0.7, result={'result': (966, 317), 'rectangle': [(891, 306), (891, 329), (1042, 329), (1042, 306)], 'confidence': 0.67177315056324}\n",
      "[20:04:39][DEBUG]<airtest.aircv.utils> find_best_result() run time is 0.99 s.\n",
      "[20:04:39][DEBUG]<airtest.core.api> try match with BRISKMatching\n",
      "[20:04:40][DEBUG]<airtest.aircv.utils> find_best_result() run time is 0.42 s.\n",
      "[20:04:40][DEBUG]<airtest.core.api> match result: None\n",
      "[20:04:40][DEBUG]<airtest.core.api> try match with MultiScaleTemplateMatchingPre\n",
      "[20:04:40][DEBUG]<airtest.aircv.utils> find_best_result() run time is 0.00 s.\n",
      "[20:04:40][DEBUG]<airtest.core.api> try match with TemplateMatching\n",
      "[20:04:40][DEBUG]<airtest.aircv.template_matching> [Template] threshold=0.7, result={'result': (790, 1420), 'rectangle': ((581, 1382), (581, 1459), (999, 1459), (999, 1382)), 'confidence': 0.3593052327632904}\n",
      "[20:04:40][DEBUG]<airtest.aircv.utils> find_best_result() run time is 0.13 s.\n",
      "[20:04:40][DEBUG]<airtest.core.api> try match with SIFTMatching\n",
      "[20:04:41][DEBUG]<airtest.aircv.utils> find_best_result() run time is 0.70 s.\n",
      "[20:04:41][DEBUG]<airtest.core.api> try match with BRISKMatching\n",
      "[20:04:41][DEBUG]<airtest.aircv.utils> find_best_result() run time is 0.13 s.\n",
      "[20:04:41][DEBUG]<airtest.core.api> match result: None\n",
      "[20:04:42][DEBUG]<airtest.core.api> try match with MultiScaleTemplateMatchingPre\n",
      "[20:04:42][DEBUG]<airtest.aircv.utils> find_best_result() run time is 0.00 s.\n",
      "[20:04:42][DEBUG]<airtest.core.api> try match with TemplateMatching\n",
      "[20:04:42][DEBUG]<airtest.aircv.template_matching> [Template] threshold=0.7, result={'result': (697, 1221), 'rectangle': ((488, 1183), (488, 1260), (906, 1260), (906, 1183)), 'confidence': 0.9950634241104126}\n",
      "[20:04:42][DEBUG]<airtest.aircv.utils> find_best_result() run time is 0.11 s.\n",
      "[20:04:42][DEBUG]<airtest.core.api> match result: {'result': (697, 1221), 'rectangle': ((488, 1183), (488, 1260), (906, 1260), (906, 1183)), 'confidence': 0.9950634241104126, 'time': 0.11153531074523926}\n"
     ]
    },
    {
     "data": {
      "text/plain": [
       "(697, 1221)"
      ]
     },
     "execution_count": 6,
     "metadata": {},
     "output_type": "execute_result"
    }
   ],
   "source": [
    "start_app(\"com.kingpoint.gmcchh\")\n",
    "try:\n",
    "    touch(wait(Template(r'./img/签到/营业厅1.jpg')))\n",
    "except:\n",
    "    print('no')\n",
    "touch(wait(Template(r'./img/签到/营业厅2.jpg')))\n",
    "touch(wait(Template(r'./img/签到/营业厅3.jpg')))\n",
    "touch(wait(Template(r'./img/签到/营业厅4.jpg')))"
   ]
  },
  {
   "cell_type": "code",
   "execution_count": 7,
   "metadata": {},
   "outputs": [
    {
     "name": "stderr",
     "output_type": "stream",
     "text": [
      "[20:04:42][DEBUG]<airtest.core.android.adb> D:\\0programs\\Anaconda3\\envs\\scrapy\\Lib\\site-packages\\airtest\\core\\android\\static\\adb\\windows\\adb.exe -P 5037 -s 192.168.1.100:28888 shell input keyevent HOME\n",
      "[20:04:43][INFO]<airtest.core.api> Try finding: Template(D:\\2scripts\\airtest\\img\\启动\\微信.jpg)\n",
      "[20:04:43][DEBUG]<airtest.core.api> try match with MultiScaleTemplateMatchingPre\n",
      "[20:04:43][DEBUG]<airtest.aircv.utils> find_best_result() run time is 0.00 s.\n",
      "[20:04:43][DEBUG]<airtest.core.api> try match with TemplateMatching\n",
      "[20:04:43][DEBUG]<airtest.aircv.template_matching> [Template] threshold=0.7, result={'result': (984, 2182), 'rectangle': ((901, 2112), (901, 2253), (1067, 2253), (1067, 2112)), 'confidence': 0.4688209593296051}\n",
      "[20:04:43][DEBUG]<airtest.aircv.utils> find_best_result() run time is 0.22 s.\n",
      "[20:04:43][DEBUG]<airtest.core.api> try match with SIFTMatching\n",
      "[20:04:45][DEBUG]<airtest.core.api> 'Target area is 5 times bigger or 0.2 times smaller than sch_img.'\n",
      "[20:04:45][DEBUG]<airtest.core.api> try match with BRISKMatching\n",
      "[20:04:45][DEBUG]<airtest.aircv.utils> find_best_result() run time is 0.80 s.\n",
      "[20:04:45][DEBUG]<airtest.core.api> match result: None\n",
      "[20:04:46][DEBUG]<airtest.core.api> try match with MultiScaleTemplateMatchingPre\n",
      "[20:04:46][DEBUG]<airtest.aircv.utils> find_best_result() run time is 0.00 s.\n",
      "[20:04:46][DEBUG]<airtest.core.api> try match with TemplateMatching\n",
      "[20:04:46][DEBUG]<airtest.aircv.template_matching> [Template] threshold=0.7, result={'result': (541, 2230), 'rectangle': ((458, 2160), (458, 2301), (624, 2301), (624, 2160)), 'confidence': 0.9962414503097534}\n",
      "[20:04:46][DEBUG]<airtest.aircv.utils> find_best_result() run time is 0.13 s.\n",
      "[20:04:46][DEBUG]<airtest.core.api> match result: {'result': (541, 2230), 'rectangle': ((458, 2160), (458, 2301), (624, 2301), (624, 2160)), 'confidence': 0.9962414503097534, 'time': 0.12929630279541016}\n"
     ]
    },
    {
     "data": {
      "text/plain": [
       "((500, 500), (500, 1500))"
      ]
     },
     "execution_count": 7,
     "metadata": {},
     "output_type": "execute_result"
    }
   ],
   "source": [
    "home()\n",
    "touch(wait(Template(r'D:\\2scripts\\airtest\\img\\启动\\微信.jpg')))\n",
    "sleep(1)\n",
    "swipe((500, 500),(500, 1500), steps=10)"
   ]
  },
  {
   "cell_type": "code",
   "execution_count": 8,
   "metadata": {},
   "outputs": [
    {
     "name": "stderr",
     "output_type": "stream",
     "text": [
      "[20:04:48][INFO]<airtest.core.api> Try finding: Template(./img/签到/深华1.jpg)\n",
      "[20:04:48][DEBUG]<airtest.core.api> try match with MultiScaleTemplateMatchingPre\n",
      "[20:04:48][DEBUG]<airtest.aircv.utils> find_best_result() run time is 0.00 s.\n",
      "[20:04:48][DEBUG]<airtest.core.api> try match with TemplateMatching\n",
      "[20:04:49][DEBUG]<airtest.aircv.template_matching> [Template] threshold=0.7, result={'result': (88, 435), 'rectangle': ((35, 386), (35, 484), (141, 484), (141, 386)), 'confidence': 0.4031711220741272}\n",
      "[20:04:49][DEBUG]<airtest.aircv.utils> find_best_result() run time is 0.09 s.\n",
      "[20:04:49][DEBUG]<airtest.core.api> try match with SIFTMatching\n",
      "[20:04:49][DEBUG]<airtest.aircv.utils> find_best_result() run time is 0.61 s.\n",
      "[20:04:49][DEBUG]<airtest.core.api> try match with BRISKMatching\n",
      "[20:04:49][DEBUG]<airtest.aircv.utils> find_best_result() run time is 0.32 s.\n",
      "[20:04:49][DEBUG]<airtest.core.api> match result: None\n",
      "[20:04:50][DEBUG]<airtest.core.api> try match with MultiScaleTemplateMatchingPre\n",
      "[20:04:50][DEBUG]<airtest.aircv.utils> find_best_result() run time is 0.00 s.\n",
      "[20:04:50][DEBUG]<airtest.core.api> try match with TemplateMatching\n",
      "[20:04:50][DEBUG]<airtest.aircv.template_matching> [Template] threshold=0.7, result={'result': (886, 1620), 'rectangle': ((833, 1571), (833, 1669), (939, 1669), (939, 1571)), 'confidence': 0.9955434203147888}\n",
      "[20:04:50][DEBUG]<airtest.aircv.utils> find_best_result() run time is 0.09 s.\n",
      "[20:04:50][DEBUG]<airtest.core.api> match result: {'result': (886, 1620), 'rectangle': ((833, 1571), (833, 1669), (939, 1669), (939, 1571)), 'confidence': 0.9955434203147888, 'time': 0.0914149284362793}\n",
      "[20:04:51][INFO]<airtest.core.api> Try finding: Template(./img/签到/深华2.jpg)\n",
      "[20:04:51][DEBUG]<airtest.core.api> try match with MultiScaleTemplateMatchingPre\n",
      "[20:04:51][DEBUG]<airtest.aircv.utils> find_best_result() run time is 0.00 s.\n",
      "[20:04:51][DEBUG]<airtest.core.api> try match with TemplateMatching\n",
      "[20:04:51][DEBUG]<airtest.aircv.template_matching> [Template] threshold=0.7, result={'result': (886, 893), 'rectangle': ((860, 863), (860, 924), (912, 924), (912, 863)), 'confidence': 0.48431432247161865}\n",
      "[20:04:51][DEBUG]<airtest.aircv.utils> find_best_result() run time is 0.10 s.\n",
      "[20:04:51][DEBUG]<airtest.core.api> try match with SIFTMatching\n",
      "[20:04:51][DEBUG]<airtest.aircv.utils> find_best_result() run time is 0.58 s.\n",
      "[20:04:51][DEBUG]<airtest.core.api> try match with BRISKMatching\n",
      "[20:04:52][DEBUG]<airtest.core.api> 'Not enough feature points in input images !'\n",
      "[20:04:52][DEBUG]<airtest.core.api> match result: None\n",
      "[20:04:53][DEBUG]<airtest.core.api> try match with MultiScaleTemplateMatchingPre\n",
      "[20:04:53][DEBUG]<airtest.aircv.utils> find_best_result() run time is 0.00 s.\n",
      "[20:04:53][DEBUG]<airtest.core.api> try match with TemplateMatching\n",
      "[20:04:53][DEBUG]<airtest.aircv.template_matching> [Template] threshold=0.7, result={'result': (390, 92), 'rectangle': ((364, 62), (364, 123), (416, 123), (416, 62)), 'confidence': 0.3837977647781372}\n",
      "[20:04:53][DEBUG]<airtest.aircv.utils> find_best_result() run time is 0.09 s.\n",
      "[20:04:53][DEBUG]<airtest.core.api> try match with SIFTMatching\n",
      "[20:04:53][DEBUG]<airtest.aircv.utils> find_best_result() run time is 0.51 s.\n",
      "[20:04:53][DEBUG]<airtest.core.api> try match with BRISKMatching\n",
      "[20:04:53][DEBUG]<airtest.core.api> 'Not enough feature points in input images !'\n",
      "[20:04:53][DEBUG]<airtest.core.api> match result: None\n",
      "[20:04:54][DEBUG]<airtest.core.api> try match with MultiScaleTemplateMatchingPre\n",
      "[20:04:54][DEBUG]<airtest.aircv.utils> find_best_result() run time is 0.00 s.\n",
      "[20:04:54][DEBUG]<airtest.core.api> try match with TemplateMatching\n",
      "[20:04:54][DEBUG]<airtest.aircv.template_matching> [Template] threshold=0.7, result={'result': (438, 56), 'rectangle': ((412, 26), (412, 87), (464, 87), (464, 26)), 'confidence': 0.2626901865005493}\n",
      "[20:04:54][DEBUG]<airtest.aircv.utils> find_best_result() run time is 0.09 s.\n",
      "[20:04:54][DEBUG]<airtest.core.api> try match with SIFTMatching\n",
      "[20:04:55][DEBUG]<airtest.aircv.utils> find_best_result() run time is 0.50 s.\n",
      "[20:04:55][DEBUG]<airtest.core.api> try match with BRISKMatching\n",
      "[20:04:55][DEBUG]<airtest.core.api> 'Not enough feature points in input images !'\n",
      "[20:04:55][DEBUG]<airtest.core.api> match result: None\n",
      "[20:04:56][DEBUG]<airtest.core.api> try match with MultiScaleTemplateMatchingPre\n",
      "[20:04:56][DEBUG]<airtest.aircv.utils> find_best_result() run time is 0.00 s.\n",
      "[20:04:56][DEBUG]<airtest.core.api> try match with TemplateMatching\n",
      "[20:04:56][DEBUG]<airtest.aircv.template_matching> [Template] threshold=0.7, result={'result': (438, 56), 'rectangle': ((412, 26), (412, 87), (464, 87), (464, 26)), 'confidence': 0.2626901865005493}\n",
      "[20:04:56][DEBUG]<airtest.aircv.utils> find_best_result() run time is 0.10 s.\n",
      "[20:04:56][DEBUG]<airtest.core.api> try match with SIFTMatching\n",
      "[20:04:56][DEBUG]<airtest.aircv.utils> find_best_result() run time is 0.51 s.\n",
      "[20:04:56][DEBUG]<airtest.core.api> try match with BRISKMatching\n",
      "[20:04:56][DEBUG]<airtest.core.api> 'Not enough feature points in input images !'\n",
      "[20:04:56][DEBUG]<airtest.core.api> match result: None\n",
      "[20:04:57][DEBUG]<airtest.core.api> try match with MultiScaleTemplateMatchingPre\n",
      "[20:04:57][DEBUG]<airtest.aircv.utils> find_best_result() run time is 0.00 s.\n",
      "[20:04:57][DEBUG]<airtest.core.api> try match with TemplateMatching\n",
      "[20:04:57][DEBUG]<airtest.aircv.template_matching> [Template] threshold=0.7, result={'result': (437, 57), 'rectangle': ((411, 27), (411, 88), (463, 88), (463, 27)), 'confidence': 0.25578418374061584}\n",
      "[20:04:57][DEBUG]<airtest.aircv.utils> find_best_result() run time is 0.09 s.\n",
      "[20:04:57][DEBUG]<airtest.core.api> try match with SIFTMatching\n",
      "[20:04:58][DEBUG]<airtest.aircv.utils> find_best_result() run time is 0.49 s.\n",
      "[20:04:58][DEBUG]<airtest.core.api> try match with BRISKMatching\n",
      "[20:04:58][DEBUG]<airtest.core.api> 'Not enough feature points in input images !'\n",
      "[20:04:58][DEBUG]<airtest.core.api> match result: None\n",
      "[20:04:59][DEBUG]<airtest.core.api> try match with MultiScaleTemplateMatchingPre\n",
      "[20:04:59][DEBUG]<airtest.aircv.utils> find_best_result() run time is 0.00 s.\n",
      "[20:04:59][DEBUG]<airtest.core.api> try match with TemplateMatching\n",
      "[20:04:59][DEBUG]<airtest.aircv.template_matching> [Template] threshold=0.7, result={'result': (899, 2305), 'rectangle': ((873, 2275), (873, 2336), (925, 2336), (925, 2275)), 'confidence': 0.39541324973106384}\n",
      "[20:04:59][DEBUG]<airtest.aircv.utils> find_best_result() run time is 0.09 s.\n",
      "[20:04:59][DEBUG]<airtest.core.api> try match with SIFTMatching\n",
      "[20:04:59][DEBUG]<airtest.aircv.utils> find_best_result() run time is 0.55 s.\n",
      "[20:04:59][DEBUG]<airtest.core.api> try match with BRISKMatching\n",
      "[20:05:00][DEBUG]<airtest.core.api> 'Not enough feature points in input images !'\n",
      "[20:05:00][DEBUG]<airtest.core.api> match result: None\n",
      "[20:05:00][DEBUG]<airtest.core.api> try match with MultiScaleTemplateMatchingPre\n",
      "[20:05:00][DEBUG]<airtest.aircv.utils> find_best_result() run time is 0.00 s.\n",
      "[20:05:00][DEBUG]<airtest.core.api> try match with TemplateMatching\n",
      "[20:05:00][DEBUG]<airtest.aircv.template_matching> [Template] threshold=0.7, result={'result': (539, 1740), 'rectangle': ((513, 1710), (513, 1771), (565, 1771), (565, 1710)), 'confidence': 0.9890141487121582}\n",
      "[20:05:00][DEBUG]<airtest.aircv.utils> find_best_result() run time is 0.09 s.\n",
      "[20:05:00][DEBUG]<airtest.core.api> match result: {'result': (539, 1740), 'rectangle': ((513, 1710), (513, 1771), (565, 1771), (565, 1710)), 'confidence': 0.9890141487121582, 'time': 0.08962798118591309}\n",
      "[20:05:01][INFO]<airtest.core.api> Try finding: Template(./img/签到/深华3.jpg)\n",
      "[20:05:01][DEBUG]<airtest.core.api> try match with MultiScaleTemplateMatchingPre\n",
      "[20:05:01][DEBUG]<airtest.aircv.utils> find_best_result() run time is 0.00 s.\n",
      "[20:05:01][DEBUG]<airtest.core.api> try match with TemplateMatching\n",
      "[20:05:01][DEBUG]<airtest.aircv.template_matching> [Template] threshold=0.7, result={'result': (992, 341), 'rectangle': ((945, 263), (945, 419), (1039, 419), (1039, 263)), 'confidence': 0.9904701709747314}\n",
      "[20:05:01][DEBUG]<airtest.aircv.utils> find_best_result() run time is 0.10 s.\n",
      "[20:05:01][DEBUG]<airtest.core.api> match result: {'result': (992, 341), 'rectangle': ((945, 263), (945, 419), (1039, 419), (1039, 263)), 'confidence': 0.9904701709747314, 'time': 0.09540104866027832}\n"
     ]
    },
    {
     "data": {
      "text/plain": [
       "(992, 341)"
      ]
     },
     "execution_count": 8,
     "metadata": {},
     "output_type": "execute_result"
    }
   ],
   "source": [
    "touch(wait(Template(r'./img/签到/深华1.jpg')))\n",
    "touch(wait(Template(r'./img/签到/深华2.jpg')))\n",
    "touch(wait(Template(r'./img/签到/深华3.jpg')))"
   ]
  },
  {
   "cell_type": "code",
   "execution_count": 9,
   "metadata": {},
   "outputs": [
    {
     "name": "stderr",
     "output_type": "stream",
     "text": [
      "[20:05:01][DEBUG]<airtest.core.android.adb> D:\\0programs\\Anaconda3\\envs\\scrapy\\Lib\\site-packages\\airtest\\core\\android\\static\\adb\\windows\\adb.exe -P 5037 -s 192.168.1.100:28888 shell input keyevent BACK\n",
      "[20:05:02][DEBUG]<airtest.core.android.adb> D:\\0programs\\Anaconda3\\envs\\scrapy\\Lib\\site-packages\\airtest\\core\\android\\static\\adb\\windows\\adb.exe -P 5037 -s 192.168.1.100:28888 shell input keyevent BACK\n"
     ]
    }
   ],
   "source": [
    "keyevent(\"BACK\")\n",
    "keyevent(\"BACK\")\n"
   ]
  },
  {
   "cell_type": "code",
   "execution_count": 10,
   "metadata": {},
   "outputs": [
    {
     "data": {
      "text/plain": [
       "((500, 500), (500, 1500))"
      ]
     },
     "execution_count": 10,
     "metadata": {},
     "output_type": "execute_result"
    }
   ],
   "source": [
    "swipe((500, 500),(500, 1500), steps=10)"
   ]
  },
  {
   "cell_type": "code",
   "execution_count": 11,
   "metadata": {},
   "outputs": [
    {
     "name": "stderr",
     "output_type": "stream",
     "text": [
      "[20:05:03][INFO]<airtest.core.api> Try finding: Template(./img/签到/wps1.jpg)\n",
      "[20:05:03][DEBUG]<airtest.core.api> try match with MultiScaleTemplateMatchingPre\n",
      "[20:05:03][DEBUG]<airtest.aircv.utils> find_best_result() run time is 0.00 s.\n",
      "[20:05:03][DEBUG]<airtest.core.api> try match with TemplateMatching\n",
      "[20:05:03][DEBUG]<airtest.aircv.template_matching> [Template] threshold=0.7, result={'result': (119, 1987), 'rectangle': ((42, 1907), (42, 2068), (196, 2068), (196, 1907)), 'confidence': 0.6659880876541138}\n",
      "[20:05:03][DEBUG]<airtest.aircv.utils> find_best_result() run time is 0.12 s.\n",
      "[20:05:03][DEBUG]<airtest.core.api> try match with SIFTMatching\n",
      "[20:05:04][DEBUG]<airtest.aircv.utils> find_best_result() run time is 0.77 s.\n",
      "[20:05:04][DEBUG]<airtest.core.api> try match with BRISKMatching\n",
      "[20:05:04][DEBUG]<airtest.aircv.utils> find_best_result() run time is 0.40 s.\n",
      "[20:05:04][DEBUG]<airtest.core.api> match result: None\n",
      "[20:05:05][DEBUG]<airtest.core.api> try match with MultiScaleTemplateMatchingPre\n",
      "[20:05:05][DEBUG]<airtest.aircv.utils> find_best_result() run time is 0.00 s.\n",
      "[20:05:05][DEBUG]<airtest.core.api> try match with TemplateMatching\n",
      "[20:05:05][DEBUG]<airtest.aircv.template_matching> [Template] threshold=0.7, result={'result': (119, 2126), 'rectangle': ((42, 2046), (42, 2207), (196, 2207), (196, 2046)), 'confidence': 0.6658838987350464}\n",
      "[20:05:05][DEBUG]<airtest.aircv.utils> find_best_result() run time is 0.12 s.\n",
      "[20:05:05][DEBUG]<airtest.core.api> try match with SIFTMatching\n",
      "[20:05:06][DEBUG]<airtest.aircv.utils> find_best_result() run time is 0.75 s.\n",
      "[20:05:06][DEBUG]<airtest.core.api> try match with BRISKMatching\n",
      "[20:05:07][DEBUG]<airtest.aircv.utils> find_best_result() run time is 0.39 s.\n",
      "[20:05:07][DEBUG]<airtest.core.api> match result: None\n",
      "[20:05:07][DEBUG]<airtest.core.api> try match with MultiScaleTemplateMatchingPre\n",
      "[20:05:07][DEBUG]<airtest.aircv.utils> find_best_result() run time is 0.00 s.\n",
      "[20:05:07][DEBUG]<airtest.core.api> try match with TemplateMatching\n",
      "[20:05:08][DEBUG]<airtest.aircv.template_matching> [Template] threshold=0.7, result={'result': (655, 1621), 'rectangle': ((578, 1541), (578, 1702), (732, 1702), (732, 1541)), 'confidence': 0.9963759183883667}\n",
      "[20:05:08][DEBUG]<airtest.aircv.utils> find_best_result() run time is 0.19 s.\n",
      "[20:05:08][DEBUG]<airtest.core.api> match result: {'result': (655, 1621), 'rectangle': ((578, 1541), (578, 1702), (732, 1702), (732, 1541)), 'confidence': 0.9963759183883667, 'time': 0.1940004825592041}\n"
     ]
    },
    {
     "data": {
      "text/plain": [
       "(655, 1621)"
      ]
     },
     "execution_count": 11,
     "metadata": {},
     "output_type": "execute_result"
    }
   ],
   "source": [
    "touch(wait(Template(r'./img/签到/wps1.jpg')))"
   ]
  },
  {
   "cell_type": "code",
   "execution_count": 12,
   "metadata": {},
   "outputs": [
    {
     "name": "stderr",
     "output_type": "stream",
     "text": [
      "[20:05:08][INFO]<airtest.core.api> Try finding: Template(./img/签到/wps2.jpg)\n",
      "[20:05:08][DEBUG]<airtest.core.api> try match with MultiScaleTemplateMatchingPre\n",
      "[20:05:08][DEBUG]<airtest.aircv.utils> find_best_result() run time is 0.00 s.\n",
      "[20:05:08][DEBUG]<airtest.core.api> try match with TemplateMatching\n",
      "[20:05:08][DEBUG]<airtest.aircv.template_matching> [Template] threshold=0.7, result={'result': (566, 424), 'rectangle': ((311, 378), (311, 471), (821, 471), (821, 378)), 'confidence': 0.35592150688171387}\n",
      "[20:05:08][DEBUG]<airtest.aircv.utils> find_best_result() run time is 0.24 s.\n",
      "[20:05:08][DEBUG]<airtest.core.api> try match with SIFTMatching\n",
      "[20:05:10][DEBUG]<airtest.aircv.utils> find_best_result() run time is 1.72 s.\n",
      "[20:05:10][DEBUG]<airtest.core.api> try match with BRISKMatching\n",
      "[20:05:10][DEBUG]<airtest.aircv.utils> find_best_result() run time is 0.37 s.\n",
      "[20:05:10][DEBUG]<airtest.core.api> match result: None\n",
      "[20:05:11][DEBUG]<airtest.core.api> try match with MultiScaleTemplateMatchingPre\n",
      "[20:05:11][DEBUG]<airtest.aircv.utils> find_best_result() run time is 0.00 s.\n",
      "[20:05:11][DEBUG]<airtest.core.api> try match with TemplateMatching\n",
      "[20:05:11][DEBUG]<airtest.aircv.template_matching> [Template] threshold=0.7, result={'result': (608, 2171), 'rectangle': ((353, 2125), (353, 2218), (863, 2218), (863, 2125)), 'confidence': 0.36914685368537903}\n",
      "[20:05:11][DEBUG]<airtest.aircv.utils> find_best_result() run time is 0.09 s.\n",
      "[20:05:11][DEBUG]<airtest.core.api> try match with SIFTMatching\n",
      "[20:05:12][DEBUG]<airtest.aircv.keypoint_base> [SIFT] threshold=0.7, result={'result': (608, 2171), 'rectangle': [(346, 2123), (346, 2219), (871, 2219), (871, 2123)], 'confidence': 0.6947747468948364}\n",
      "[20:05:12][DEBUG]<airtest.aircv.utils> find_best_result() run time is 0.65 s.\n",
      "[20:05:12][DEBUG]<airtest.core.api> try match with BRISKMatching\n",
      "[20:05:12][DEBUG]<airtest.aircv.keypoint_base> [BRISK] threshold=0.7, result={'result': (651, 2178), 'rectangle': [(365, 2128), (365, 2228), (938, 2228), (938, 2128)], 'confidence': 0.5993868485093117}\n",
      "[20:05:12][DEBUG]<airtest.aircv.utils> find_best_result() run time is 0.21 s.\n",
      "[20:05:12][DEBUG]<airtest.core.api> match result: None\n",
      "[20:05:13][DEBUG]<airtest.core.api> try match with MultiScaleTemplateMatchingPre\n",
      "[20:05:13][DEBUG]<airtest.aircv.utils> find_best_result() run time is 0.00 s.\n",
      "[20:05:13][DEBUG]<airtest.core.api> try match with TemplateMatching\n",
      "[20:05:13][DEBUG]<airtest.aircv.template_matching> [Template] threshold=0.7, result={'result': (525, 1168), 'rectangle': ((270, 1122), (270, 1215), (780, 1215), (780, 1122)), 'confidence': 0.49462851881980896}\n",
      "[20:05:13][DEBUG]<airtest.aircv.utils> find_best_result() run time is 0.17 s.\n",
      "[20:05:13][DEBUG]<airtest.core.api> try match with SIFTMatching\n",
      "[20:05:15][DEBUG]<airtest.aircv.keypoint_base> [SIFT] threshold=0.7, result={'result': (525, 1167), 'rectangle': [(271, 1121), (271, 1214), (780, 1214), (780, 1121)], 'confidence': 0.7476749271154404}\n",
      "[20:05:15][DEBUG]<airtest.aircv.utils> find_best_result() run time is 1.38 s.\n",
      "[20:05:15][DEBUG]<airtest.core.api> match result: {'result': (525, 1167), 'rectangle': [(271, 1121), (271, 1214), (780, 1214), (780, 1121)], 'confidence': 0.7476749271154404, 'time': 1.376802682876587}\n"
     ]
    },
    {
     "data": {
      "text/plain": [
       "(525, 1167)"
      ]
     },
     "execution_count": 12,
     "metadata": {},
     "output_type": "execute_result"
    }
   ],
   "source": [
    "touch(wait(Template(r'./img/签到/wps2.jpg')))"
   ]
  },
  {
   "cell_type": "code",
   "execution_count": null,
   "metadata": {},
   "outputs": [],
   "source": []
  }
 ],
 "metadata": {
  "kernelspec": {
   "display_name": "Python 3.10.6 ('scrapy')",
   "language": "python",
   "name": "python3"
  },
  "language_info": {
   "codemirror_mode": {
    "name": "ipython",
    "version": 3
   },
   "file_extension": ".py",
   "mimetype": "text/x-python",
   "name": "python",
   "nbconvert_exporter": "python",
   "pygments_lexer": "ipython3",
   "version": "3.10.6"
  },
  "orig_nbformat": 4,
  "vscode": {
   "interpreter": {
    "hash": "4b02eb3369ddb463a9c7ff2e10f6f414273f7bb9ba6811f66bd156c176e17d4a"
   }
  }
 },
 "nbformat": 4,
 "nbformat_minor": 2
}
