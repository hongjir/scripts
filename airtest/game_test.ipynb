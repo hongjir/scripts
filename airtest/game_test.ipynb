{
 "cells": [
  {
   "cell_type": "code",
   "execution_count": 1,
   "metadata": {},
   "outputs": [],
   "source": [
    "from airtest.core.api import *"
   ]
  },
  {
   "cell_type": "code",
   "execution_count": 3,
   "metadata": {},
   "outputs": [
    {
     "name": "stderr",
     "output_type": "stream",
     "text": [
      "[09:23:47][DEBUG]<airtest.core.android.adb> D:\\0programs\\Anaconda3\\envs\\scrapy\\Lib\\site-packages\\airtest\\core\\android\\static\\adb\\windows\\adb.exe -P 5037 -s emulator-5554 wait-for-device\n",
      "[09:23:47][DEBUG]<airtest.core.android.adb> D:\\0programs\\Anaconda3\\envs\\scrapy\\Lib\\site-packages\\airtest\\core\\android\\static\\adb\\windows\\adb.exe -P 5037 -s emulator-5554 shell getprop ro.build.version.sdk\n"
     ]
    }
   ],
   "source": [
    "auto_setup(basedir='./', logdir='./log/game', devices=[\"Android://127.0.0.1:5037/emulator-5554?cap_method=javacap\"])"
   ]
  },
  {
   "cell_type": "code",
   "execution_count": 3,
   "metadata": {},
   "outputs": [
    {
     "name": "stderr",
     "output_type": "stream",
     "text": [
      "[08:32:33][DEBUG]<airtest.core.android.adb> D:\\0programs\\Anaconda3\\envs\\scrapy\\Lib\\site-packages\\airtest\\core\\android\\static\\adb\\windows\\adb.exe -P 5037 -s emulator-5554 shell monkey -p com.bilibili.azurlane -c android.intent.category.LAUNCHER 1\n"
     ]
    }
   ],
   "source": [
    "start_app('com.bilibili.azurlane')"
   ]
  },
  {
   "cell_type": "code",
   "execution_count": 5,
   "metadata": {},
   "outputs": [
    {
     "data": {
      "text/plain": [
       "(100, 100)"
      ]
     },
     "execution_count": 5,
     "metadata": {},
     "output_type": "execute_result"
    }
   ],
   "source": [
    "touch((100,100))"
   ]
  },
  {
   "cell_type": "code",
   "execution_count": 5,
   "metadata": {},
   "outputs": [
    {
     "name": "stderr",
     "output_type": "stream",
     "text": [
      "[08:34:55][INFO]<airtest.core.api> Try finding: Template(././img/game/get.png)\n",
      "[08:34:55][DEBUG]<airtest.core.api> try match with MultiScaleTemplateMatchingPre\n",
      "[08:34:55][DEBUG]<airtest.aircv.utils> find_best_result() run time is 0.00 s.\n",
      "[08:34:55][DEBUG]<airtest.core.api> try match with TemplateMatching\n",
      "[08:34:55][DEBUG]<airtest.aircv.template_matching> [Template] threshold=0.7, result={'result': (967, 354), 'rectangle': ((818, 331), (818, 377), (1117, 377), (1117, 331)), 'confidence': 0.9962978363037109}\n",
      "[08:34:55][DEBUG]<airtest.aircv.utils> find_best_result() run time is 0.09 s.\n",
      "[08:34:55][DEBUG]<airtest.core.api> match result: {'result': (967, 354), 'rectangle': ((818, 331), (818, 377), (1117, 377), (1117, 331)), 'confidence': 0.9962978363037109, 'time': 0.08611798286437988}\n"
     ]
    },
    {
     "data": {
      "text/plain": [
       "(967, 354)"
      ]
     },
     "execution_count": 5,
     "metadata": {},
     "output_type": "execute_result"
    }
   ],
   "source": [
    "touch(Template(r'./img/game/get.png'))"
   ]
  },
  {
   "cell_type": "code",
   "execution_count": 6,
   "metadata": {},
   "outputs": [
    {
     "name": "stderr",
     "output_type": "stream",
     "text": [
      "[08:36:32][INFO]<airtest.core.api> Try finding: Template(././img/game/home.png)\n",
      "[08:36:33][DEBUG]<airtest.core.api> try match with MultiScaleTemplateMatchingPre\n",
      "[08:36:33][DEBUG]<airtest.aircv.utils> find_best_result() run time is 0.00 s.\n",
      "[08:36:33][DEBUG]<airtest.core.api> try match with TemplateMatching\n",
      "[08:36:33][DEBUG]<airtest.aircv.template_matching> [Template] threshold=0.7, result={'result': (1861, 50), 'rectangle': ((1836, 31), (1836, 69), (1886, 69), (1886, 31)), 'confidence': 0.9982648491859436}\n",
      "[08:36:33][DEBUG]<airtest.aircv.utils> find_best_result() run time is 0.15 s.\n",
      "[08:36:33][DEBUG]<airtest.core.api> match result: {'result': (1861, 50), 'rectangle': ((1836, 31), (1836, 69), (1886, 69), (1886, 31)), 'confidence': 0.9982648491859436, 'time': 0.14620280265808105}\n"
     ]
    },
    {
     "data": {
      "text/plain": [
       "(1861, 50)"
      ]
     },
     "execution_count": 6,
     "metadata": {},
     "output_type": "execute_result"
    }
   ],
   "source": [
    "touch(Template(r'./img/game/home.png'))"
   ]
  },
  {
   "cell_type": "code",
   "execution_count": 7,
   "metadata": {},
   "outputs": [
    {
     "name": "stderr",
     "output_type": "stream",
     "text": [
      "[08:37:26][INFO]<airtest.core.api> Try finding: Template(././img/game/X.png)\n",
      "[08:37:27][DEBUG]<airtest.core.api> try match with MultiScaleTemplateMatchingPre\n",
      "[08:37:27][DEBUG]<airtest.aircv.utils> find_best_result() run time is 0.00 s.\n",
      "[08:37:27][DEBUG]<airtest.core.api> try match with TemplateMatching\n",
      "[08:37:27][DEBUG]<airtest.aircv.template_matching> [Template] threshold=0.7, result={'result': (1789, 99), 'rectangle': ((1742, 69), (1742, 130), (1837, 130), (1837, 69)), 'confidence': 0.9953417778015137}\n",
      "[08:37:27][DEBUG]<airtest.aircv.utils> find_best_result() run time is 0.15 s.\n",
      "[08:37:27][DEBUG]<airtest.core.api> match result: {'result': (1789, 99), 'rectangle': ((1742, 69), (1742, 130), (1837, 130), (1837, 69)), 'confidence': 0.9953417778015137, 'time': 0.15031194686889648}\n"
     ]
    },
    {
     "data": {
      "text/plain": [
       "(1789, 99)"
      ]
     },
     "execution_count": 7,
     "metadata": {},
     "output_type": "execute_result"
    }
   ],
   "source": [
    "touch(Template(r'./img/game/X.png'))"
   ]
  },
  {
   "cell_type": "code",
   "execution_count": 9,
   "metadata": {},
   "outputs": [
    {
     "name": "stderr",
     "output_type": "stream",
     "text": [
      "[08:39:49][INFO]<airtest.core.api> Try finding: Template(././img/game/sidebar.png)\n",
      "[08:39:49][DEBUG]<airtest.core.api> try match with MultiScaleTemplateMatchingPre\n",
      "[08:39:49][DEBUG]<airtest.aircv.utils> find_best_result() run time is 0.00 s.\n",
      "[08:39:49][DEBUG]<airtest.core.api> try match with TemplateMatching\n",
      "[08:39:49][DEBUG]<airtest.aircv.template_matching> [Template] threshold=0.7, result={'result': (25, 248), 'rectangle': ((1, 209), (1, 287), (49, 287), (49, 209)), 'confidence': 0.9954297542572021}\n",
      "[08:39:49][DEBUG]<airtest.aircv.utils> find_best_result() run time is 0.07 s.\n",
      "[08:39:49][DEBUG]<airtest.core.api> match result: {'result': (25, 248), 'rectangle': ((1, 209), (1, 287), (49, 287), (49, 209)), 'confidence': 0.9954297542572021, 'time': 0.07210326194763184}\n"
     ]
    },
    {
     "data": {
      "text/plain": [
       "(25, 248)"
      ]
     },
     "execution_count": 9,
     "metadata": {},
     "output_type": "execute_result"
    }
   ],
   "source": [
    "touch(Template(r'./img/game/sidebar.png'))"
   ]
  },
  {
   "cell_type": "code",
   "execution_count": 10,
   "metadata": {},
   "outputs": [
    {
     "name": "stderr",
     "output_type": "stream",
     "text": [
      "[08:42:19][INFO]<airtest.core.api> Try finding: Template(././img/game/oil.png)\n",
      "[08:42:19][DEBUG]<airtest.core.api> try match with MultiScaleTemplateMatchingPre\n",
      "[08:42:19][DEBUG]<airtest.aircv.utils> find_best_result() run time is 0.00 s.\n",
      "[08:42:19][DEBUG]<airtest.core.api> try match with TemplateMatching\n",
      "[08:42:19][DEBUG]<airtest.aircv.template_matching> [Template] threshold=0.7, result={'result': (193, 91), 'rectangle': ((177, 71), (177, 112), (210, 112), (210, 71)), 'confidence': 0.9944370985031128}\n",
      "[08:42:19][DEBUG]<airtest.aircv.utils> find_best_result() run time is 0.08 s.\n",
      "[08:42:19][DEBUG]<airtest.core.api> match result: {'result': (193, 91), 'rectangle': ((177, 71), (177, 112), (210, 112), (210, 71)), 'confidence': 0.9944370985031128, 'time': 0.08230113983154297}\n",
      "[08:42:19][INFO]<airtest.core.api> Try finding: Template(././img/game/gold.png)\n",
      "[08:42:20][DEBUG]<airtest.core.api> try match with MultiScaleTemplateMatchingPre\n",
      "[08:42:20][DEBUG]<airtest.aircv.utils> find_best_result() run time is 0.00 s.\n",
      "[08:42:20][DEBUG]<airtest.core.api> try match with TemplateMatching\n",
      "[08:42:20][DEBUG]<airtest.aircv.template_matching> [Template] threshold=0.7, result={'result': (438, 79), 'rectangle': ((409, 52), (409, 106), (468, 106), (468, 52)), 'confidence': 0.991790771484375}\n",
      "[08:42:20][DEBUG]<airtest.aircv.utils> find_best_result() run time is 0.08 s.\n",
      "[08:42:20][DEBUG]<airtest.core.api> match result: {'result': (438, 79), 'rectangle': ((409, 52), (409, 106), (468, 106), (468, 52)), 'confidence': 0.991790771484375, 'time': 0.07895898818969727}\n"
     ]
    },
    {
     "data": {
      "text/plain": [
       "(438, 79)"
      ]
     },
     "execution_count": 10,
     "metadata": {},
     "output_type": "execute_result"
    }
   ],
   "source": [
    "touch(Template(r'./img/game/oil.png'))\n",
    "touch(Template(r'./img/game/gold.png'))"
   ]
  },
  {
   "cell_type": "code",
   "execution_count": 21,
   "metadata": {},
   "outputs": [
    {
     "name": "stderr",
     "output_type": "stream",
     "text": [
      "[08:45:53][INFO]<airtest.core.api> Try finding: Template(././img/game/done.png)\n",
      "[08:45:53][DEBUG]<airtest.core.api> try match with MultiScaleTemplateMatchingPre\n",
      "[08:45:53][DEBUG]<airtest.aircv.utils> find_best_result() run time is 0.00 s.\n",
      "[08:45:53][DEBUG]<airtest.core.api> try match with TemplateMatching\n",
      "[08:45:53][DEBUG]<airtest.aircv.template_matching> [Template] threshold=0.7, result={'result': (664, 849), 'rectangle': ((578, 823), (578, 875), (750, 875), (750, 823)), 'confidence': 0.9705865383148193}\n",
      "[08:45:53][DEBUG]<airtest.aircv.utils> find_best_result() run time is 0.07 s.\n",
      "[08:45:53][DEBUG]<airtest.core.api> match result: {'result': (664, 849), 'rectangle': ((578, 823), (578, 875), (750, 875), (750, 823)), 'confidence': 0.9705865383148193, 'time': 0.07053017616271973}\n"
     ]
    },
    {
     "data": {
      "text/plain": [
       "(664, 849)"
      ]
     },
     "execution_count": 21,
     "metadata": {},
     "output_type": "execute_result"
    }
   ],
   "source": [
    "touch(Template(r'./img/game/done.png'))"
   ]
  },
  {
   "cell_type": "code",
   "execution_count": 18,
   "metadata": {},
   "outputs": [
    {
     "name": "stderr",
     "output_type": "stream",
     "text": [
      "[08:44:44][INFO]<airtest.core.api> Try finding: Template(././img/game/委托.png)\n",
      "[08:44:44][DEBUG]<airtest.core.api> try match with MultiScaleTemplateMatchingPre\n",
      "[08:44:44][DEBUG]<airtest.aircv.utils> find_best_result() run time is 0.00 s.\n",
      "[08:44:44][DEBUG]<airtest.core.api> try match with TemplateMatching\n",
      "[08:44:44][DEBUG]<airtest.aircv.template_matching> [Template] threshold=0.7, result={'result': (496, 194), 'rectangle': ((288, 151), (288, 238), (705, 238), (705, 151)), 'confidence': 0.3901313841342926}\n",
      "[08:44:44][DEBUG]<airtest.aircv.utils> find_best_result() run time is 0.08 s.\n",
      "[08:44:44][DEBUG]<airtest.core.api> try match with SIFTMatching\n",
      "[08:44:45][DEBUG]<airtest.aircv.keypoint_base> [SIFT] threshold=0.7, result={'result': (494, 193), 'rectangle': [(283, 151), (283, 236), (706, 236), (706, 151)], 'confidence': 0.7128140181303024}\n",
      "[08:44:45][DEBUG]<airtest.aircv.utils> find_best_result() run time is 0.87 s.\n",
      "[08:44:45][DEBUG]<airtest.core.api> match result: {'result': (494, 193), 'rectangle': [(283, 151), (283, 236), (706, 236), (706, 151)], 'confidence': 0.7128140181303024, 'time': 0.874732255935669}\n"
     ]
    },
    {
     "data": {
      "text/plain": [
       "(494, 193)"
      ]
     },
     "execution_count": 18,
     "metadata": {},
     "output_type": "execute_result"
    }
   ],
   "source": [
    "touch(Template(r'./img/game/委托.png'))"
   ]
  },
  {
   "cell_type": "code",
   "execution_count": null,
   "metadata": {},
   "outputs": [],
   "source": [
    "Template.match_all_in(Template(r'./img/game/委托2.png'), G.DEVICE.snapshot())[-1]['result']"
   ]
  },
  {
   "cell_type": "code",
   "execution_count": 19,
   "metadata": {},
   "outputs": [
    {
     "name": "stderr",
     "output_type": "stream",
     "text": [
      "[08:44:46][INFO]<airtest.core.api> Try finding: Template(././img/game/get.png)\n",
      "[08:44:46][DEBUG]<airtest.core.api> try match with MultiScaleTemplateMatchingPre\n",
      "[08:44:46][DEBUG]<airtest.aircv.utils> find_best_result() run time is 0.00 s.\n",
      "[08:44:46][DEBUG]<airtest.core.api> try match with TemplateMatching\n",
      "[08:44:47][DEBUG]<airtest.aircv.template_matching> [Template] threshold=0.7, result={'result': (967, 354), 'rectangle': ((818, 331), (818, 377), (1117, 377), (1117, 331)), 'confidence': 0.9963036179542542}\n",
      "[08:44:47][DEBUG]<airtest.aircv.utils> find_best_result() run time is 0.09 s.\n",
      "[08:44:47][DEBUG]<airtest.core.api> match result: {'result': (967, 354), 'rectangle': ((818, 331), (818, 377), (1117, 377), (1117, 331)), 'confidence': 0.9963036179542542, 'time': 0.09479451179504395}\n"
     ]
    },
    {
     "data": {
      "text/plain": [
       "(967, 354)"
      ]
     },
     "execution_count": 19,
     "metadata": {},
     "output_type": "execute_result"
    }
   ],
   "source": [
    "touch(Template(r'./img/game/get.png'))"
   ]
  },
  {
   "cell_type": "code",
   "execution_count": 34,
   "metadata": {},
   "outputs": [
    {
     "name": "stderr",
     "output_type": "stream",
     "text": [
      "[09:14:19][INFO]<airtest.core.api> Try finding: Template(././img/game/委托2.png)\n",
      "[09:14:19][DEBUG]<airtest.core.api> try match with MultiScaleTemplateMatchingPre\n",
      "[09:14:19][DEBUG]<airtest.aircv.utils> find_best_result() run time is 0.00 s.\n",
      "[09:14:19][DEBUG]<airtest.core.api> try match with TemplateMatching\n",
      "[09:14:20][DEBUG]<airtest.aircv.template_matching> [Template] threshold=0.7, result={'result': (1483, 262), 'rectangle': ((1444, 227), (1444, 297), (1522, 297), (1522, 227)), 'confidence': 0.9972537159919739}\n",
      "[09:14:20][DEBUG]<airtest.aircv.utils> find_best_result() run time is 0.09 s.\n",
      "[09:14:20][DEBUG]<airtest.core.api> match result: {'result': (1483, 262), 'rectangle': ((1444, 227), (1444, 297), (1522, 297), (1522, 227)), 'confidence': 0.9972537159919739, 'time': 0.09191584587097168}\n"
     ]
    },
    {
     "data": {
      "text/plain": [
       "(1483, 262)"
      ]
     },
     "execution_count": 34,
     "metadata": {},
     "output_type": "execute_result"
    }
   ],
   "source": [
    "touch(Template(r'./img/game/委托2.png'))"
   ]
  },
  {
   "cell_type": "code",
   "execution_count": 7,
   "metadata": {},
   "outputs": [
    {
     "name": "stderr",
     "output_type": "stream",
     "text": [
      "[09:46:57][INFO]<airtest.core.api> Try finding: Template(././img/game/再次前往.png)\n",
      "[09:46:57][DEBUG]<airtest.core.api> try match with MultiScaleTemplateMatchingPre\n",
      "[09:46:57][DEBUG]<airtest.aircv.utils> find_best_result() run time is 0.00 s.\n",
      "[09:46:57][DEBUG]<airtest.core.api> try match with TemplateMatching\n",
      "[09:46:57][DEBUG]<airtest.aircv.template_matching> [Template] threshold=0.7, result={'result': (1270, 935), 'rectangle': ((1162, 901), (1162, 969), (1378, 969), (1378, 901)), 'confidence': 0.9949169754981995}\n",
      "[09:46:57][DEBUG]<airtest.aircv.utils> find_best_result() run time is 0.06 s.\n",
      "[09:46:57][DEBUG]<airtest.core.api> match result: {'result': (1270, 935), 'rectangle': ((1162, 901), (1162, 969), (1378, 969), (1378, 901)), 'confidence': 0.9949169754981995, 'time': 0.05777716636657715}\n"
     ]
    },
    {
     "data": {
      "text/plain": [
       "(1270, 935)"
      ]
     },
     "execution_count": 7,
     "metadata": {},
     "output_type": "execute_result"
    }
   ],
   "source": [
    "touch(Template(r'./img/game/再次前往.png'))"
   ]
  },
  {
   "cell_type": "code",
   "execution_count": 6,
   "metadata": {},
   "outputs": [
    {
     "name": "stderr",
     "output_type": "stream",
     "text": [
      "[23:25:46][INFO]<airtest.core.api> Try finding: Template(././img/game/再次前往.png)\n",
      "[23:25:47][DEBUG]<airtest.core.api> try match with MultiScaleTemplateMatchingPre\n",
      "[23:25:47][DEBUG]<airtest.aircv.utils> find_best_result() run time is 0.00 s.\n",
      "[23:25:47][DEBUG]<airtest.core.api> try match with TemplateMatching\n",
      "[23:25:47][DEBUG]<airtest.aircv.template_matching> [Template] threshold=0.7, result={'result': (1270, 935), 'rectangle': ((1162, 901), (1162, 969), (1378, 969), (1378, 901)), 'confidence': 0.9974998831748962}\n",
      "[23:25:47][DEBUG]<airtest.aircv.utils> find_best_result() run time is 0.69 s.\n",
      "[23:25:47][DEBUG]<airtest.core.api> match result: {'result': (1270, 935), 'rectangle': ((1162, 901), (1162, 969), (1378, 969), (1378, 901)), 'confidence': 0.9974998831748962, 'time': 0.6856467723846436}\n",
      "[23:31:18][INFO]<airtest.core.api> Try finding: Template(././img/game/再次前往.png)\n",
      "[23:31:18][DEBUG]<airtest.core.api> try match with MultiScaleTemplateMatchingPre\n",
      "[23:31:18][DEBUG]<airtest.aircv.utils> find_best_result() run time is 0.00 s.\n",
      "[23:31:18][DEBUG]<airtest.core.api> try match with TemplateMatching\n",
      "[23:31:18][DEBUG]<airtest.aircv.template_matching> [Template] threshold=0.7, result={'result': (730, 130), 'rectangle': ((622, 96), (622, 164), (838, 164), (838, 96)), 'confidence': 0.3949045240879059}\n",
      "[23:31:18][DEBUG]<airtest.aircv.utils> find_best_result() run time is 0.19 s.\n",
      "[23:31:18][DEBUG]<airtest.core.api> try match with SIFTMatching\n",
      "[23:31:20][DEBUG]<airtest.aircv.utils> find_best_result() run time is 1.57 s.\n",
      "[23:31:20][DEBUG]<airtest.core.api> try match with BRISKMatching\n",
      "[23:31:22][DEBUG]<airtest.aircv.utils> find_best_result() run time is 1.60 s.\n",
      "[23:31:22][DEBUG]<airtest.core.api> match result: None\n",
      "[23:31:32][DEBUG]<airtest.core.api> try match with MultiScaleTemplateMatchingPre\n",
      "[23:31:32][DEBUG]<airtest.aircv.utils> find_best_result() run time is 0.00 s.\n",
      "[23:31:32][DEBUG]<airtest.core.api> try match with TemplateMatching\n",
      "[23:31:32][DEBUG]<airtest.aircv.template_matching> [Template] threshold=0.7, result={'result': (1270, 935), 'rectangle': ((1162, 901), (1162, 969), (1378, 969), (1378, 901)), 'confidence': 0.9974947571754456}\n",
      "[23:31:32][DEBUG]<airtest.aircv.utils> find_best_result() run time is 0.22 s.\n",
      "[23:31:32][DEBUG]<airtest.core.api> match result: {'result': (1270, 935), 'rectangle': ((1162, 901), (1162, 969), (1378, 969), (1378, 901)), 'confidence': 0.9974947571754456, 'time': 0.2219243049621582}\n",
      "[23:37:03][INFO]<airtest.core.api> Try finding: Template(././img/game/再次前往.png)\n",
      "[23:37:03][DEBUG]<airtest.core.api> try match with MultiScaleTemplateMatchingPre\n",
      "[23:37:03][DEBUG]<airtest.aircv.utils> find_best_result() run time is 0.00 s.\n",
      "[23:37:03][DEBUG]<airtest.core.api> try match with TemplateMatching\n",
      "[23:37:03][DEBUG]<airtest.aircv.template_matching> [Template] threshold=0.7, result={'result': (1650, 164), 'rectangle': ((1542, 130), (1542, 198), (1758, 198), (1758, 130)), 'confidence': 0.3850712776184082}\n",
      "[23:37:03][DEBUG]<airtest.aircv.utils> find_best_result() run time is 0.28 s.\n",
      "[23:37:03][DEBUG]<airtest.core.api> try match with SIFTMatching\n",
      "[23:37:04][DEBUG]<airtest.aircv.utils> find_best_result() run time is 1.14 s.\n",
      "[23:37:04][DEBUG]<airtest.core.api> try match with BRISKMatching\n",
      "[23:37:05][DEBUG]<airtest.aircv.utils> find_best_result() run time is 0.50 s.\n",
      "[23:37:05][DEBUG]<airtest.core.api> match result: None\n",
      "[23:37:15][DEBUG]<airtest.core.api> try match with MultiScaleTemplateMatchingPre\n",
      "[23:37:15][DEBUG]<airtest.aircv.utils> find_best_result() run time is 0.00 s.\n",
      "[23:37:15][DEBUG]<airtest.core.api> try match with TemplateMatching\n",
      "[23:37:15][DEBUG]<airtest.aircv.template_matching> [Template] threshold=0.7, result={'result': (1270, 935), 'rectangle': ((1162, 901), (1162, 969), (1378, 969), (1378, 901)), 'confidence': 0.9974848031997681}\n",
      "[23:37:15][DEBUG]<airtest.aircv.utils> find_best_result() run time is 0.18 s.\n",
      "[23:37:15][DEBUG]<airtest.core.api> match result: {'result': (1270, 935), 'rectangle': ((1162, 901), (1162, 969), (1378, 969), (1378, 901)), 'confidence': 0.9974848031997681, 'time': 0.178314208984375}\n"
     ]
    },
    {
     "name": "stderr",
     "output_type": "stream",
     "text": [
      "[23:51:42][DEBUG]<airtest.utils.nbsp> [javacap_sever]b''\n",
      "[23:51:42][DEBUG]<airtest.utils.nbsp> [minitouch_server]b''\n",
      "[23:51:42][DEBUG]<airtest.utils.nbsp> [rotation_server]b''\n",
      "[23:51:43][DEBUG]<airtest.core.android.rotation> orientationWatcher has ended\n"
     ]
    }
   ],
   "source": [
    "t = 3\n",
    "for i in range(t):\n",
    "    touch(wait(Template(r'./img/game/再次前往.png'), timeout=360, interval=10))\n",
    "    sleep(330)"
   ]
  },
  {
   "cell_type": "code",
   "execution_count": null,
   "metadata": {},
   "outputs": [],
   "source": []
  }
 ],
 "metadata": {
  "kernelspec": {
   "display_name": "Python 3.10.6 ('scrapy')",
   "language": "python",
   "name": "python3"
  },
  "language_info": {
   "codemirror_mode": {
    "name": "ipython",
    "version": 3
   },
   "file_extension": ".py",
   "mimetype": "text/x-python",
   "name": "python",
   "nbconvert_exporter": "python",
   "pygments_lexer": "ipython3",
   "version": "3.10.6"
  },
  "orig_nbformat": 4,
  "vscode": {
   "interpreter": {
    "hash": "4b02eb3369ddb463a9c7ff2e10f6f414273f7bb9ba6811f66bd156c176e17d4a"
   }
  }
 },
 "nbformat": 4,
 "nbformat_minor": 2
}
