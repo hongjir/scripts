{
 "cells": [
  {
   "cell_type": "code",
   "execution_count": 6,
   "metadata": {},
   "outputs": [],
   "source": [
    "with open('./tmp6E2F.png', 'rb') as img:\n",
    "    text = str(img.read())\n",
    "\n",
    "# text = text.split(r'\\x')\n",
    "with open('test.txt', 'w') as f:\n",
    "    f.write(str(text))"
   ]
  },
  {
   "cell_type": "code",
   "execution_count": null,
   "metadata": {},
   "outputs": [],
   "source": [
    "with open('test.txt', 'r') as f:\n",
    "    text = f.read()\n"
   ]
  }
 ],
 "metadata": {
  "kernelspec": {
   "display_name": "Python 3.9.12 ('base')",
   "language": "python",
   "name": "python3"
  },
  "language_info": {
   "codemirror_mode": {
    "name": "ipython",
    "version": 3
   },
   "file_extension": ".py",
   "mimetype": "text/x-python",
   "name": "python",
   "nbconvert_exporter": "python",
   "pygments_lexer": "ipython3",
   "version": "3.9.12"
  },
  "orig_nbformat": 4,
  "vscode": {
   "interpreter": {
    "hash": "e88c74233eeb51b9076a9155828118c6f5beafa173226e4c0fa4b006b9a3984b"
   }
  }
 },
 "nbformat": 4,
 "nbformat_minor": 2
}
